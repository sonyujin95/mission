{
 "cells": [
  {
   "cell_type": "markdown",
   "metadata": {},
   "source": [
    "**미션1. 윤년  프로그램을 통한 연산자 및 조건식 이해하기**\n",
    "\n",
    "- 4로 나누어 떨어지는 년도 : 값 % 4이 0    \n",
    "- 그 중 100으로 나누어 떨어지는 년도는 윤년이 아님 : 값 % 100 의 0과 비교\n",
    "- 400으로 나누어 떨어지는 년도는 무조건 윤년 : 1+2 또는 3번째 조건식 비교( 값 % 400와 0 비교)"
   ]
  },
  {
   "cell_type": "code",
   "execution_count": 2,
   "metadata": {},
   "outputs": [
    {
     "name": "stdout",
     "output_type": "stream",
     "text": [
      "년도를 입력하세요100\n",
      "윤년이 아니다.\n"
     ]
    }
   ],
   "source": [
    "y = int(input(\"년도를 입력하세요\"))\n",
    "if y%4 == 0 and (y%400 == 0 or y%100 != 0):\n",
    "    print('윤년')\n",
    "else:\n",
    "    print('윤년이 아니다.')\n",
    "    "
   ]
  },
  {
   "cell_type": "markdown",
   "metadata": {},
   "source": [
    "**미션2. 문자열의 중간 문자를 추출해 보기**\n",
    "\n",
    "실시간 입력되는 문자열의 중앙에 있는 문자를 출력한다. 예를 들어서 문자열이 \"weekday\"이라면 중앙의 문자는 \"k\"가 된다.\n",
    "\n",
    "하지만 만약 문자열이 짝수개의 문자를 가지고 있다면 중앙의 2개의 글자를 출력한다.\n",
    "\n",
    "예를 들어서 \"string\" 문자열에서는 \"ri\"를 반환한다. "
   ]
  },
  {
   "cell_type": "code",
   "execution_count": 10,
   "metadata": {},
   "outputs": [],
   "source": [
    "def mid_word(w):\n",
    "    if len(w)%2 != 0:\n",
    "        return w[len(w)//2]\n",
    "    else:\n",
    "        return (w[(len(w)//2)-1:(len(w)//2)+1])\n",
    "\n",
    "w = 'string'"
   ]
  },
  {
   "cell_type": "code",
   "execution_count": 11,
   "metadata": {},
   "outputs": [
    {
     "data": {
      "text/plain": [
       "'ri'"
      ]
     },
     "execution_count": 11,
     "metadata": {},
     "output_type": "execute_result"
    }
   ],
   "source": [
    "mid_word(w)"
   ]
  },
  {
   "cell_type": "code",
   "execution_count": 8,
   "metadata": {},
   "outputs": [
    {
     "data": {
      "text/plain": [
       "'es'"
      ]
     },
     "execution_count": 8,
     "metadata": {},
     "output_type": "execute_result"
    }
   ],
   "source": [
    "v1 = 'test'\n",
    "\n",
    "v1[1:3]"
   ]
  },
  {
   "cell_type": "code",
   "execution_count": 9,
   "metadata": {},
   "outputs": [
    {
     "data": {
      "text/plain": [
       "'k'"
      ]
     },
     "execution_count": 9,
     "metadata": {},
     "output_type": "execute_result"
    }
   ],
   "source": [
    "def mid_word(w):\n",
    "    if len(w)%2 != 0:\n",
    "        return w[len(w)//2]\n",
    "    else:\n",
    "        return (w[(len(w)//2)-1:(len(w)//2)+1])\n",
    "    \n",
    "w = 'weekday'"
   ]
  },
  {
   "cell_type": "code",
   "execution_count": 12,
   "metadata": {},
   "outputs": [
    {
     "data": {
      "text/plain": [
       "'ri'"
      ]
     },
     "execution_count": 12,
     "metadata": {},
     "output_type": "execute_result"
    }
   ],
   "source": [
    "mid_word(w)"
   ]
  },
  {
   "cell_type": "markdown",
   "metadata": {},
   "source": [
    "**미션3. 임금 계산해 보기**\n",
    "\n",
    "사용자에게 근무 시간과 시간당 임금을 물어보고, 주당 근무 시간이 40시간을 넘으면 1.5배의 임금을 지급해야 한다고 가정할 경우<br> \n",
    "이번주에 받는 총임금을 계산하는 프로그램을 만들어 보자"
   ]
  },
  {
   "cell_type": "code",
   "execution_count": 13,
   "metadata": {},
   "outputs": [],
   "source": [
    "def week_pay(t, p):\n",
    "    if t > 40:\n",
    "        return t * p * 1.5\n",
    "    else:\n",
    "        return t * p"
   ]
  },
  {
   "cell_type": "code",
   "execution_count": 14,
   "metadata": {},
   "outputs": [
    {
     "data": {
      "text/plain": [
       "615000.0"
      ]
     },
     "execution_count": 14,
     "metadata": {},
     "output_type": "execute_result"
    }
   ],
   "source": [
    "week_pay(41,10000)"
   ]
  },
  {
   "cell_type": "code",
   "execution_count": 15,
   "metadata": {},
   "outputs": [
    {
     "data": {
      "text/plain": [
       "390000"
      ]
     },
     "execution_count": 15,
     "metadata": {},
     "output_type": "execute_result"
    }
   ],
   "source": [
    "week_pay(39,10000)"
   ]
  }
 ],
 "metadata": {
  "kernelspec": {
   "display_name": "Python 3",
   "language": "python",
   "name": "python3"
  },
  "language_info": {
   "codemirror_mode": {
    "name": "ipython",
    "version": 3
   },
   "file_extension": ".py",
   "mimetype": "text/x-python",
   "name": "python",
   "nbconvert_exporter": "python",
   "pygments_lexer": "ipython3",
   "version": "3.8.5"
  }
 },
 "nbformat": 4,
 "nbformat_minor": 4
}
