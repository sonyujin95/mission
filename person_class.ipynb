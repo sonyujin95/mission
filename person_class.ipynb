{
 "cells": [
  {
   "cell_type": "markdown",
   "metadata": {},
   "source": [
    "**미션**\n",
    "\n",
    "- Person 클래스 개발해보기\n",
    "- 멤버 변수 : name/age\n",
    "- getXxx/setXxx()\n",
    "- Person이 잘 구성되어 있는지 test하는 코드도 완성해보기"
   ]
  },
  {
   "cell_type": "code",
   "execution_count": 1,
   "metadata": {},
   "outputs": [],
   "source": [
    "class Person:\n",
    "    \n",
    "    def __init__(self, name, age):\n",
    "        self.name = name\n",
    "        self.age = age\n",
    "        \n",
    "    def getName(self):\n",
    "        return self.name\n",
    "    \n",
    "    def setName(self, new_name):\n",
    "        self.name = new_name\n",
    "        \n",
    "    def getAge(self):\n",
    "        return self.age\n",
    "    \n",
    "    def setAge(self, new_age):\n",
    "        self.age = new_age"
   ]
  },
  {
   "cell_type": "code",
   "execution_count": 2,
   "metadata": {},
   "outputs": [],
   "source": [
    "p1 = Person('유재석', 20)\n",
    "p2 = Person('지석진', 56)"
   ]
  },
  {
   "cell_type": "code",
   "execution_count": 4,
   "metadata": {},
   "outputs": [
    {
     "name": "stdout",
     "output_type": "stream",
     "text": [
      "지석진\n"
     ]
    }
   ],
   "source": [
    "print(p2.name)"
   ]
  },
  {
   "cell_type": "code",
   "execution_count": 5,
   "metadata": {},
   "outputs": [
    {
     "name": "stdout",
     "output_type": "stream",
     "text": [
      "57\n"
     ]
    }
   ],
   "source": [
    "p2.setAge(57)\n",
    "print(p2.getAge())"
   ]
  },
  {
   "cell_type": "code",
   "execution_count": 6,
   "metadata": {},
   "outputs": [
    {
     "name": "stdout",
     "output_type": "stream",
     "text": [
      "-57\n"
     ]
    }
   ],
   "source": [
    "p2.setAge(-57)\n",
    "print(p2.getAge())"
   ]
  },
  {
   "cell_type": "markdown",
   "metadata": {},
   "source": [
    "나이는 - 로 나오면 안되므로 필터링을 해야.<br>\n",
    "\n",
    "해결책 : p2.age = -57 즉 변수 직접 호출 불가로 차단 <br>\n",
    "검증 로직이 부여된 메소드 통해서만 값 대입"
   ]
  },
  {
   "cell_type": "code",
   "execution_count": 7,
   "metadata": {},
   "outputs": [],
   "source": [
    "class Person7:\n",
    "    \n",
    "    def __init__(self, name, age):\n",
    "        self.name = name\n",
    "        self.__age = age    # Person 클래스 내에서만 호출 가능한 즉, 외부에서 호출 불가\n",
    "        \n",
    "    def getName(self):\n",
    "        return self.name\n",
    "    \n",
    "    def setName(self, new_name):\n",
    "        self.name = new_name\n",
    "        \n",
    "    def getAge(self):\n",
    "        return self.__age\n",
    "    \n",
    "    # 데이터 보호 처리 기술 - 유효성 검증 코드\n",
    "    def setAge(self, new_age):\n",
    "        if new_age > 0:\n",
    "            self.__age = new_age"
   ]
  },
  {
   "cell_type": "code",
   "execution_count": 8,
   "metadata": {},
   "outputs": [],
   "source": [
    "p7 = Person7('지석진', 56)"
   ]
  },
  {
   "cell_type": "code",
   "execution_count": 9,
   "metadata": {},
   "outputs": [
    {
     "ename": "AttributeError",
     "evalue": "'Person7' object has no attribute 'age'",
     "output_type": "error",
     "traceback": [
      "\u001b[1;31m---------------------------------------------------------------------------\u001b[0m",
      "\u001b[1;31mAttributeError\u001b[0m                            Traceback (most recent call last)",
      "\u001b[1;32m<ipython-input-9-aec03a491e3d>\u001b[0m in \u001b[0;36m<module>\u001b[1;34m\u001b[0m\n\u001b[1;32m----> 1\u001b[1;33m \u001b[0mprint\u001b[0m\u001b[1;33m(\u001b[0m\u001b[0mp7\u001b[0m\u001b[1;33m.\u001b[0m\u001b[0mage\u001b[0m\u001b[1;33m)\u001b[0m\u001b[1;33m\u001b[0m\u001b[1;33m\u001b[0m\u001b[0m\n\u001b[0m",
      "\u001b[1;31mAttributeError\u001b[0m: 'Person7' object has no attribute 'age'"
     ]
    }
   ],
   "source": [
    "print(p7.age)"
   ]
  },
  {
   "cell_type": "code",
   "execution_count": 10,
   "metadata": {},
   "outputs": [
    {
     "name": "stdout",
     "output_type": "stream",
     "text": [
      "56\n"
     ]
    }
   ],
   "source": [
    "# __로 선언된 멤버 변수들은 메소드 통해서 데이터 활용 권장\n",
    "\n",
    "print(p7.getAge())"
   ]
  },
  {
   "cell_type": "markdown",
   "metadata": {},
   "source": [
    "**미션 - 미완성 문법 완성하기**"
   ]
  },
  {
   "cell_type": "code",
   "execution_count": 14,
   "metadata": {},
   "outputs": [],
   "source": [
    "class UserClass:\n",
    "    def __init__(intValue=10):\n",
    "        instanceVar = ''\n",
    "        intValue = intValue;\n",
    "        print('생성자')\n",
    "    \n",
    "    def setVar(self):\n",
    "        self.instanceVar = '인스턴스 변수'\n",
    "        \n",
    "    def getVar(self):\n",
    "        self.instanceVar\n",
    "        \n",
    "    def getIntValue(self):\n",
    "        print(\"클래스 내부의 getIntValue() 함수\")\n",
    "        return self.instanceVar\n",
    "        \n",
    "    def methodReturnFun(self):\n",
    "        return self.getIntValue()"
   ]
  },
  {
   "cell_type": "code",
   "execution_count": 15,
   "metadata": {},
   "outputs": [
    {
     "name": "stdout",
     "output_type": "stream",
     "text": [
      "생성자\n",
      "instanceVar 변수 값 :  None\n",
      "클래스 내부의 getIntValue() 함수\n",
      "intValue 변수 값 :  인스턴스 변수\n",
      "클래스 내부의 getIntValue() 함수\n",
      "intValue 변수 값 :  인스턴스 변수\n"
     ]
    }
   ],
   "source": [
    "instance = UserClass()\n",
    "instance.setVar()\n",
    "\n",
    "print(\"instanceVar 변수 값 : \", instance.getVar())\n",
    "print(\"intValue 변수 값 : \", instance.getIntValue())\n",
    "print(\"intValue 변수 값 : \", instance.methodReturnFun())"
   ]
  },
  {
   "cell_type": "code",
   "execution_count": null,
   "metadata": {},
   "outputs": [],
   "source": []
  }
 ],
 "metadata": {
  "kernelspec": {
   "display_name": "Python 3",
   "language": "python",
   "name": "python3"
  },
  "language_info": {
   "codemirror_mode": {
    "name": "ipython",
    "version": 3
   },
   "file_extension": ".py",
   "mimetype": "text/x-python",
   "name": "python",
   "nbconvert_exporter": "python",
   "pygments_lexer": "ipython3",
   "version": "3.8.5"
  }
 },
 "nbformat": 4,
 "nbformat_minor": 4
}
