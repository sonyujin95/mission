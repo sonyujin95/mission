{
 "cells": [
  {
   "cell_type": "markdown",
   "metadata": {},
   "source": [
    "**미션 - 일회용 패스워드 생성기를 이용해서 3개의 패스워드를 생성하여 출력하는 프로그램을 작성해보기** <br>\n",
    "\n",
    "출력 예시: <br>\n",
    "\n",
    "ouuc4c <br>\n",
    "uuahtp <br>\n",
    "79s6oz <br>"
   ]
  },
  {
   "cell_type": "code",
   "execution_count": 1,
   "metadata": {},
   "outputs": [
    {
     "name": "stdout",
     "output_type": "stream",
     "text": [
      "1ezmb5\n",
      "y6a1gr\n",
      "6clk1r\n"
     ]
    }
   ],
   "source": [
    "import random\n",
    "\n",
    "def gen_pass():\n",
    "    # 제공되는 raw\n",
    "    alphabet = \"abcdefghijklmnopqrstuvwxyz0123456789\"\n",
    "    \n",
    "    # 6개 착출도니 데이터를 보유하게 되는 변수\n",
    "    # 반복을 6번 해서 6개의 문자열 구성\n",
    "    # 데이터가 적재되는 변수\n",
    "    password = \"\"\n",
    "    \n",
    "    for i in range(6):  # 0 ~ 5 까지의 6개 숫자 반환, 6번으로 사용되는 반복문\n",
    "        index = random.randrange(36)\n",
    "        password = password + alphabet[index]  # password += alphabet[index]\n",
    "        \n",
    "    return password\n",
    "\n",
    "print(gen_pass())\n",
    "print(gen_pass())\n",
    "print(gen_pass())"
   ]
  },
  {
   "cell_type": "code",
   "execution_count": null,
   "metadata": {},
   "outputs": [],
   "source": []
  }
 ],
 "metadata": {
  "kernelspec": {
   "display_name": "Python 3",
   "language": "python",
   "name": "python3"
  },
  "language_info": {
   "codemirror_mode": {
    "name": "ipython",
    "version": 3
   },
   "file_extension": ".py",
   "mimetype": "text/x-python",
   "name": "python",
   "nbconvert_exporter": "python",
   "pygments_lexer": "ipython3",
   "version": "3.8.5"
  }
 },
 "nbformat": 4,
 "nbformat_minor": 4
}
