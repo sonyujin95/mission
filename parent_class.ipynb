{
 "cells": [
  {
   "cell_type": "markdown",
   "metadata": {},
   "source": [
    "**미션 - 문법 확인 후 상속 관계 적용해보기**"
   ]
  },
  {
   "cell_type": "code",
   "execution_count": 1,
   "metadata": {},
   "outputs": [],
   "source": [
    "# 부모 클래스 = Parent / Super\n",
    "class Parent:\n",
    "    def __init__(self, name):\n",
    "        self.name = name\n",
    "    \n",
    "    def getName(self):\n",
    "        return self.name\n",
    "    \n",
    "    \n",
    "# 자식 클래스 - Child / Sub\n",
    "class Child(Parent):      # Parent를 상속받는 Child 클래스 / name & getName() 상속받음\n",
    "    \n",
    "    # 생성자 - 보유하고 있는 모든 멤버 변수들 초기화로 주로 개발\n",
    "    # Child는 Parent를 상속. 따라소 총 멤버 변수는 name, age\n",
    "    # name은 상속 : 부모가 물려주는 name에 초기화\n",
    "    # 부모로부터 상속받은 변수 따라서 부모의 __init__ 호출하면서 초기화 진행\n",
    "    # super().__init__(name) 부모의 생성자를 name 변수 초기화 요청하면서 호출하는 문법\n",
    "    # age는 새로 선언 따라서 초기화 self.age = age\n",
    "    def __init__(self, name, age):\n",
    "        super().__init__(name)   # Parent의 __init__ 호출 문법\n",
    "        self.age = age\n",
    "        \n",
    "    def printAll(self):\n",
    "        print(self.name, ' ', self.age)"
   ]
  },
  {
   "cell_type": "code",
   "execution_count": 2,
   "metadata": {},
   "outputs": [],
   "source": [
    "p = Child('유재석', 10)"
   ]
  },
  {
   "cell_type": "code",
   "execution_count": 3,
   "metadata": {},
   "outputs": [
    {
     "name": "stdout",
     "output_type": "stream",
     "text": [
      "유재석   10\n"
     ]
    }
   ],
   "source": [
    "p.printAll()"
   ]
  },
  {
   "cell_type": "code",
   "execution_count": 4,
   "metadata": {},
   "outputs": [
    {
     "name": "stdout",
     "output_type": "stream",
     "text": [
      "유재석\n"
     ]
    }
   ],
   "source": [
    "# 상속받은 메소드 호출\n",
    "print(p.getName())"
   ]
  },
  {
   "cell_type": "code",
   "execution_count": 5,
   "metadata": {},
   "outputs": [
    {
     "name": "stdout",
     "output_type": "stream",
     "text": [
      "유재석\n"
     ]
    }
   ],
   "source": [
    "# 상속받은 변수 호출\n",
    "print(p.name)"
   ]
  },
  {
   "cell_type": "markdown",
   "metadata": {},
   "source": [
    "**미션 - 상속 문제**\n",
    "\n",
    "회사에 직원(Employee)과 매니저(Manager)가 있다. 직원은 월급만 있지만 매니저는 월급 외에 보너스가 있다.\n",
    "\n",
    "Employee 클래스를 상속받아서 Manager 클래스를 작성한다.\n",
    "\n",
    "Employee 클래스의 getSalary() 는 Manager 클래스에서 재정의된다.\n",
    "\n",
    "- 조건 : 미완성 문법을 완성하기\n",
    "- 출력 결과 : 이름 : 김철수; 월급 : 2000000; 보너스 : 1000000"
   ]
  },
  {
   "cell_type": "code",
   "execution_count": 6,
   "metadata": {},
   "outputs": [
    {
     "name": "stdout",
     "output_type": "stream",
     "text": [
      "이름 : 김철수; 월급 : 2000000; 보너스 : 1000000\n"
     ]
    }
   ],
   "source": [
    "class Employee:\n",
    "    def __init__(self, name, salary):\n",
    "        self.name = name\n",
    "        self.salary = salary\n",
    "        \n",
    "    def getSalary(self):\n",
    "        return salary\n",
    "    \n",
    "class Manager(Employee):\n",
    "    \n",
    "    def __init__(self, name, salary, bonus):\n",
    "        super().__init__(name, salary)   # super().__init__(\"김철수\", 2000000) 호출하기\n",
    "        self.bonus = bonus\n",
    "        \n",
    "        \n",
    "    # 객체의 문자열 표현을 반환\n",
    "    # \\ - line에 코드가 엄청 긴 경우 문법 오류 발생없이 line을 구분 할 필요가 있을 때\n",
    "    # 한 line의 문장입니다 라는 표현의 표기\n",
    "    def __str__(self):\n",
    "        return \"이름 : \" + self.name + \"; 월급 : \" + str(self.salary) + \"; 보너스 : \" + str(self.bonus)\n",
    "    \n",
    "    \n",
    "kim = Manager(\"김철수\", 2000000, 1000000)\n",
    "print(kim)      # __str__(self) 메소드 자동 호출, 이름 : 공자, 월급 : 2000000, 보너스 : 1000000"
   ]
  },
  {
   "cell_type": "code",
   "execution_count": null,
   "metadata": {},
   "outputs": [],
   "source": []
  }
 ],
 "metadata": {
  "kernelspec": {
   "display_name": "Python 3",
   "language": "python",
   "name": "python3"
  },
  "language_info": {
   "codemirror_mode": {
    "name": "ipython",
    "version": 3
   },
   "file_extension": ".py",
   "mimetype": "text/x-python",
   "name": "python",
   "nbconvert_exporter": "python",
   "pygments_lexer": "ipython3",
   "version": "3.8.5"
  }
 },
 "nbformat": 4,
 "nbformat_minor": 4
}
