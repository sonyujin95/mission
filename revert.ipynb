{
 "cells": [
  {
   "cell_type": "markdown",
   "metadata": {},
   "source": [
    "**미션 : 문자열 전체 반전하기**"
   ]
  },
  {
   "cell_type": "code",
   "execution_count": 1,
   "metadata": {},
   "outputs": [
    {
     "name": "stdout",
     "output_type": "stream",
     "text": [
      "안녕 세상!\n",
      "!상세 녕안\n"
     ]
    }
   ],
   "source": [
    "def revert(string):\n",
    "    return string[::-1]   # 슬라이싱 기법으로 문자열 반전하기\n",
    "\n",
    "\n",
    "str1 = \"안녕 세상!\"\n",
    "str3 = revert(str1)\n",
    "print(str1)\n",
    "print(str3)\n"
   ]
  },
  {
   "cell_type": "markdown",
   "metadata": {},
   "source": [
    "**미션 : 문자열 단어 단위로 반전하기**"
   ]
  },
  {
   "cell_type": "code",
   "execution_count": 3,
   "metadata": {},
   "outputs": [
    {
     "name": "stdout",
     "output_type": "stream",
     "text": [
      "openpose 플레이데이터 엔코아\n"
     ]
    }
   ],
   "source": [
    "# 문자열을 공백으로 구분해서 리스트를 생성한 다음 슬라이스 사용\n",
    "def reversing_words_slice(word):\n",
    "    new_word = []\n",
    "    words = word.split(' ')\n",
    "#   print(words)\n",
    "\n",
    "\n",
    "\n",
    "    for w in words[::-1]:\n",
    "        new_word.append(w)\n",
    "        \n",
    "    return ' '.join(new_word)\n",
    "\n",
    "\n",
    "str1 = \"엔코아 플레이데이터 openpose\"\n",
    "str2 = reversing_words_slice(str1)\n",
    "print(str2)\n"
   ]
  },
  {
   "cell_type": "code",
   "execution_count": 8,
   "metadata": {},
   "outputs": [
    {
     "name": "stdout",
     "output_type": "stream",
     "text": [
      "openpose 플레이데이터 엔코아\n"
     ]
    }
   ],
   "source": [
    "# 반복문 없이 리스트와 문자열 메소드만으로 해결\n",
    "# 반전 기능의 함수가 있음 - reversed(데이터 제공)\n",
    "\n",
    "def reversing_words(str1):\n",
    "#    print(str1)\n",
    "#    print(str1.split(''))\n",
    "#    print(reversed(str1.split(' ')))\n",
    "#    print(' '.join(reversed(str1.split(' '))))\n",
    "\n",
    "    return ' '.join(reversed(str.split(' ')))\n",
    "\n",
    "def reversing_words2(str1):\n",
    "    words = str1.split(' ')\n",
    "#    print(words)     # [ '엔코아', '플레이데이터', 'openpose' ]\n",
    "    words.reverse()   # print(words)  # [ 'openpose', '플레이데이터', '엔코아']\n",
    "    return ' '.join(words)\n",
    "\n",
    "\n",
    "str1 = \"엔코아 플레이데이터 openpose\"\n",
    "str2 = reversing_words(str1)\n",
    "str3 = reversing_words2(str1)\n",
    "#print(str2)\n",
    "print(str3)\n"
   ]
  },
  {
   "cell_type": "code",
   "execution_count": null,
   "metadata": {},
   "outputs": [],
   "source": []
  }
 ],
 "metadata": {
  "kernelspec": {
   "display_name": "Python 3",
   "language": "python",
   "name": "python3"
  },
  "language_info": {
   "codemirror_mode": {
    "name": "ipython",
    "version": 3
   },
   "file_extension": ".py",
   "mimetype": "text/x-python",
   "name": "python",
   "nbconvert_exporter": "python",
   "pygments_lexer": "ipython3",
   "version": "3.8.5"
  }
 },
 "nbformat": 4,
 "nbformat_minor": 4
}
