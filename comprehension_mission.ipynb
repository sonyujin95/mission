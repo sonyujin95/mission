{
 "cells": [
  {
   "cell_type": "markdown",
   "metadata": {},
   "source": [
    "**미션 - comprehension 문법으로 변경하기**"
   ]
  },
  {
   "cell_type": "code",
   "execution_count": 8,
   "metadata": {},
   "outputs": [
    {
     "name": "stdout",
     "output_type": "stream",
     "text": [
      "[121, 242, 252, 252, 272, 464, 272, 323, 252, 414, 323, 494, 252, 525, 242, 484, 616, 414, 575, 696, 525, 575, 494, 676, 616, 464, 696]\n"
     ]
    }
   ],
   "source": [
    "eve = []\n",
    "\n",
    "for i in range(10, 30):\n",
    "    \n",
    "    for j in range(10, 30):\n",
    "        a = i * j\n",
    "        \n",
    "        if str(a) == str(a)[::-1]:\n",
    "              eve.append(a)\n",
    "\n",
    "print(eve)\n"
   ]
  },
  {
   "cell_type": "code",
   "execution_count": 6,
   "metadata": {},
   "outputs": [
    {
     "name": "stdout",
     "output_type": "stream",
     "text": [
      "[121, 242, 252, 252, 272, 464, 272, 323, 252, 414, 323, 494, 252, 525, 242, 484, 616, 414, 575, 696, 525, 575, 494, 676, 616, 464, 696]\n"
     ]
    }
   ],
   "source": [
    "eve = []\n",
    "\n",
    "eve = [i * j for i in range(10, 30) for j in range(10, 30) if str(i * j) == str(i * j)[::-1]]\n",
    "\n",
    "print(eve)\n"
   ]
  },
  {
   "cell_type": "markdown",
   "metadata": {},
   "source": [
    "**미션 : 제시된 코드와 동일한 로직의 comprehension 구성하기**"
   ]
  },
  {
   "cell_type": "code",
   "execution_count": 3,
   "metadata": {},
   "outputs": [
    {
     "name": "stdout",
     "output_type": "stream",
     "text": [
      "[1, 3, 5]\n"
     ]
    }
   ],
   "source": [
    "reference = [1, 2, 3, 4, 5, 6]\n",
    "\n",
    "output = []\n",
    "\n",
    "for number in reference:\n",
    "    \n",
    "    if number % 2 == 0:\n",
    "        prev_num = number - 1\n",
    "        output.append(prev_num)\n",
    "        \n",
    "print(output)\n"
   ]
  },
  {
   "cell_type": "code",
   "execution_count": 9,
   "metadata": {},
   "outputs": [
    {
     "data": {
      "text/plain": [
       "[1, 3, 5]"
      ]
     },
     "execution_count": 9,
     "metadata": {},
     "output_type": "execute_result"
    }
   ],
   "source": [
    "[number - 1 for number in [1, 2, 3, 4, 5, 6] if number % 2 == 0]"
   ]
  },
  {
   "cell_type": "markdown",
   "metadata": {},
   "source": [
    "**미션 : 제시된 반복문 등을 분석하고 comprehension 문법 적용해서 결과에 맞게 구성하기**"
   ]
  },
  {
   "cell_type": "code",
   "execution_count": 10,
   "metadata": {},
   "outputs": [
    {
     "name": "stdout",
     "output_type": "stream",
     "text": [
      "encore\n",
      "playdata\n",
      "교육\n",
      "4차 산업 인재상\n",
      "----- split() -----\n",
      "['encore']\n",
      "['playdata']\n",
      "['교육']\n",
      "['4차', '산업', '인재상']\n",
      "----- list에 저장 -----\n",
      "[['encore'], ['playdata'], ['교육'], ['4차', '산업', '인재상']]\n"
     ]
    }
   ],
   "source": [
    "list_string = ['encore', 'playdata', '교육', '4차 산업 인재상']\n",
    "\n",
    "for word in list_string:\n",
    "    print(word)\n",
    "    \n",
    "print('----- split() -----')\n",
    "\n",
    "for word in list_string:\n",
    "    print(word.split())\n",
    "    \n",
    "print('----- list에 저장 -----')\n",
    "\n",
    "list = []\n",
    "\n",
    "for word in list_string:\n",
    "    list.append(word.split())\n",
    "    \n",
    "print(list)\n"
   ]
  },
  {
   "cell_type": "code",
   "execution_count": 11,
   "metadata": {},
   "outputs": [
    {
     "name": "stdout",
     "output_type": "stream",
     "text": [
      "[['encore'], ['playdata'], ['교육'], ['4차', '산업', '인재상']]\n"
     ]
    }
   ],
   "source": [
    "list_string = ['encore', 'playdata', '교육', '4차 산업 인재상']\n",
    "\n",
    "a = [word.split() for word in list_string]\n",
    "\n",
    "print(a)"
   ]
  },
  {
   "cell_type": "markdown",
   "metadata": {},
   "source": [
    "**미션 : 제시된 데이터를 활용하여 철자 길이가 4 이상인 경우의 데이터에 한해서만 문자열의 첫 글자만 대문자로 출력**"
   ]
  },
  {
   "cell_type": "code",
   "execution_count": 14,
   "metadata": {},
   "outputs": [
    {
     "name": "stdout",
     "output_type": "stream",
     "text": [
      "['Encore', 'Playdata', 'Sw응용&분석', 'hi']\n"
     ]
    }
   ],
   "source": [
    "words = ['encore', 'playdata', 'sw응용&분석', 'hi']\n",
    "\n",
    "words = [word[0].upper()+word[1:] if len(word) >= 4 else word for word in words]\n",
    "\n",
    "print(words)"
   ]
  }
 ],
 "metadata": {
  "kernelspec": {
   "display_name": "Python 3",
   "language": "python",
   "name": "python3"
  },
  "language_info": {
   "codemirror_mode": {
    "name": "ipython",
    "version": 3
   },
   "file_extension": ".py",
   "mimetype": "text/x-python",
   "name": "python",
   "nbconvert_exporter": "python",
   "pygments_lexer": "ipython3",
   "version": "3.8.5"
  }
 },
 "nbformat": 4,
 "nbformat_minor": 4
}
