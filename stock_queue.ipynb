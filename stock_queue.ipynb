{
 "cells": [
  {
   "cell_type": "markdown",
   "metadata": {},
   "source": [
    "**문제 : 초 단위로 기록된 주식가격이 담긴 배열 prices가 매개변수로 주어질 때, 가격이 떨어지지 않은 기간은 몇 초인지를 return 하도록 solution 함수를 완성하세요.**\n",
    "\n",
    "\n",
    "**제한사항**\n",
    "\n",
    "- prices의 각 가격은 1 이상 10,000 이하인 자연수입니다.\n",
    "\n",
    "- prices의 길이는 2 이상 100,000 이하입니다."
   ]
  },
  {
   "cell_type": "code",
   "execution_count": 20,
   "metadata": {},
   "outputs": [],
   "source": [
    "# queue는 선입력 선출력, stack은 선입력 후출력(후입력 선출력) 의 특성을 지니고 있다.\n",
    "def solution(prices):\n",
    "    queue = deque(prices)\n",
    "    result = []\n",
    "\n",
    "    while queue:\n",
    "        now = queue.popleft()    # 왼쪽(처음)에서 입력\n",
    "        cnt = 0\n",
    "        for i in queue:\n",
    "            if now <= i:\n",
    "                cnt += 1         # 가격이 올랐거나 유지했는지\n",
    "            else:\n",
    "                cnt += 1\n",
    "                break            # 그 외(떨어지면) break로 for문 빠져나옴\n",
    "        result.append(cnt)\n",
    "        \n",
    "    return result\n"
   ]
  },
  {
   "cell_type": "code",
   "execution_count": null,
   "metadata": {},
   "outputs": [],
   "source": []
  },
  {
   "cell_type": "code",
   "execution_count": 3,
   "metadata": {},
   "outputs": [],
   "source": [
    "# for중첩, if문\n",
    "def solution(prices):\n",
    "    answer = [0] * len(prices)   # price값과 동일한 길이의 리스트로 초기화\n",
    "    \n",
    "    for i in range(len(prices)):\n",
    "        \n",
    "        for j in range(i+1, len(prices)[j]):\n",
    "            \n",
    "            if prices[i] <= prices[j]:\n",
    "                answer[i] += 1            # 가격이 올랐거나 유지했는지\n",
    "                \n",
    "            else:\n",
    "                answer[i] += 1\n",
    "                break                     # 그 외(떨어지면) for문으로 빠져나옴\n",
    "                \n",
    "    return answer"
   ]
  },
  {
   "cell_type": "code",
   "execution_count": null,
   "metadata": {},
   "outputs": [],
   "source": []
  },
  {
   "cell_type": "code",
   "execution_count": null,
   "metadata": {},
   "outputs": [],
   "source": []
  }
 ],
 "metadata": {
  "kernelspec": {
   "display_name": "Python 3",
   "language": "python",
   "name": "python3"
  },
  "language_info": {
   "codemirror_mode": {
    "name": "ipython",
    "version": 3
   },
   "file_extension": ".py",
   "mimetype": "text/x-python",
   "name": "python",
   "nbconvert_exporter": "python",
   "pygments_lexer": "ipython3",
   "version": "3.8.5"
  }
 },
 "nbformat": 4,
 "nbformat_minor": 4
}
