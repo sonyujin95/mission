{
 "cells": [
  {
   "cell_type": "code",
   "execution_count": 2,
   "metadata": {},
   "outputs": [
    {
     "name": "stdout",
     "output_type": "stream",
     "text": [
      "진 [('서윤희', 90, 95)]\n",
      "선 [('김은정', 85, 95)]\n",
      "미 [('이지은', 80, 85)]\n"
     ]
    }
   ],
   "source": [
    "## 초기 pylint 실행\n",
    "entry =[\n",
    "  (\"김사랑\",70,75),\n",
    "  (\"이하늬\",60,65),  \n",
    "  (\"이지은\",80,85),\n",
    "  (\"서윤희\",90,95),\n",
    "  (\"김은정\",85,95)]  \n",
    "sum = []\n",
    "\n",
    "def makeSum(entry,\n",
    "  sum) :\n",
    "    if not entry:\n",
    "      print(\"entry list is empty\")\n",
    "    else:\n",
    "        for i in range(0,5) :\n",
    "            sum.append(entry[i][1]+entry[i][2])\n",
    "        sum.sort(reverse=True)\n",
    "        print (\"진\",list(filter(lambda x:x[1]+x[2]==sum[0],entry)))\n",
    "        print (\"선\",list(filter(lambda x:x[1]+x[2]==sum[1],entry)))\n",
    "        print (\"미\",list(filter(lambda x:x[1]+x[2]==sum[ 2 ],entry)))\n",
    "\n",
    "makeSum(entry,sum)"
   ]
  },
  {
   "cell_type": "markdown",
   "metadata": {},
   "source": [
    "위 코드를 pylint 돌린 값이다.\n",
    "<hr>\n",
    "C:\\202105_lab\\01.pythonBasic>pylint u4.py <br>\n",
    "************* Module u4 <br>\n",
    "u4.py:3:16: C0303: Trailing whitespace (trailing-whitespace) <br>\n",
    "u4.py:6:16: C0303: Trailing whitespace (trailing-whitespace) <br>\n",
    "u4.py:12:0: W0311: Bad indentation. Found 6 spaces, expected 8 (bad-indentation) <br>\n",
    "u4.py:21:0: C0304: Final newline missing (missing-final-newline) <br>\n",
    "u4.py:1:0: C0114: Missing module docstring (missing-module-docstring) <br>\n",
    "u4.py:7:0: W0622: Redefining built-in 'sum' (redefined-builtin) <br>\n",
    "u4.py:9:0: C0103: Function name \"makeSum\" doesn't conform to snake_case naming style (invalid-name) <br>\n",
    "u4.py:9:0: C0116: Missing function or method docstring (missing-function-docstring) <br>\n",
    "u4.py:9:12: W0621: Redefining name 'entry' from outer scope (line 1) (redefined-outer-name) <br>\n",
    "u4.py:10:2: W0621: Redefining name 'sum' from outer scope (line 7) (redefined-outer-name) <br>\n",
    "\n",
    "-------------------------------------------------------------------\n",
    "Your code has been rated at 1.67/10 (previous run: 10.00/10, -8.33)"
   ]
  },
  {
   "cell_type": "markdown",
   "metadata": {},
   "source": [
    "위에서 잡아준 코드값들의 뜻이다.\n",
    "<hr>\n",
    "- C0303 : 잘못된 공백 <br>\n",
    "- W0311 : 잘못된 들여쓰기 <br>\n",
    "- C0304 : 마지막 행의 개행 <br>\n",
    "- C0114 : module docstring 필요 <br>\n",
    "- W0622 : 시스템 내부 변수와 중복된 변수명 <br>\n",
    "- C0103 : 잘못된 함수 및 변수 이름 style - camelCase <br>\n",
    "- W0621 : 함수 내외에서 중복된 변수명 <br>\n",
    "- C0116 : function docstring 필요 <br>"
   ]
  },
  {
   "cell_type": "code",
   "execution_count": 3,
   "metadata": {},
   "outputs": [
    {
     "name": "stdout",
     "output_type": "stream",
     "text": [
      "진 [('서윤희', 90, 95)]\n",
      "선 [('김은정', 85, 95)]\n",
      "미 [('이지은', 80, 85)]\n"
     ]
    }
   ],
   "source": [
    "# pylint에서 잡아준 것들을 개선한 코드\n",
    "\"\"\"\n",
    "    두 점수를 합산하여 미스코리아 상위 3명을 가려 진선미를 선출한다.\n",
    "\"\"\"\n",
    "entry = [\n",
    "    (\"김사랑\", 70, 75),\n",
    "    (\"이하늬\", 60, 65),\n",
    "    (\"이지은\", 80, 85),\n",
    "    (\"서윤희\", 90, 95),\n",
    "    (\"김은정\", 85, 95)]\n",
    "\n",
    "total = []\n",
    "\n",
    "def make_sum(inner_entry, inner_total) :\n",
    "    \"\"\"\n",
    "        inner_entry {list} : 명단\n",
    "        inner_sum {list} : 진, 선, 미를 가려 저장할 명단\n",
    "    \"\"\"\n",
    "    if not inner_entry:\n",
    "        print(\"entry list is empty\")\n",
    "    else:\n",
    "        for i in range(0, 5) :\n",
    "            inner_total.append(inner_entry[i][1] + inner_entry[i][2])\n",
    "\n",
    "        inner_total.sort(reverse = True)\n",
    "\n",
    "        print(\"진\", list(filter(lambda x : x[1] + x[2] == inner_total[0], inner_entry)))\n",
    "        print(\"선\", list(filter(lambda x : x[1] + x[2] == inner_total[1], inner_entry)))\n",
    "        print(\"미\", list(filter(lambda x : x[1] + x[2] == inner_total[2], inner_entry)))\n",
    "\n",
    "make_sum(entry, total)\n"
   ]
  },
  {
   "cell_type": "markdown",
   "metadata": {},
   "source": [
    "위 코드를 pylint로 돌렸지만 잡아준 것 없이 개선된 것을 알 수 있다.\n",
    "<hr>\n",
    "C:\\202105_lab\\01.pythonBasic>pylint u4.py \n",
    "\n",
    "-------------------------------------------------------------------\n",
    "Your code has been rated at 10.00/10 (previous run: 1.67/10, +8.33)"
   ]
  },
  {
   "cell_type": "code",
   "execution_count": null,
   "metadata": {},
   "outputs": [],
   "source": []
  }
 ],
 "metadata": {
  "kernelspec": {
   "display_name": "Python 3",
   "language": "python",
   "name": "python3"
  },
  "language_info": {
   "codemirror_mode": {
    "name": "ipython",
    "version": 3
   },
   "file_extension": ".py",
   "mimetype": "text/x-python",
   "name": "python",
   "nbconvert_exporter": "python",
   "pygments_lexer": "ipython3",
   "version": "3.8.5"
  }
 },
 "nbformat": 4,
 "nbformat_minor": 4
}
